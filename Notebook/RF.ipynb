{
 "cells": [
  {
   "cell_type": "code",
   "execution_count": 67,
   "metadata": {},
   "outputs": [],
   "source": [
    "import pandas as pd\n",
    "import numpy as np\n",
    "import matplotlib.pyplot as plt\n",
    "import seaborn as sns\n",
    "from sklearn.model_selection import GridSearchCV\n",
    "from sklearn.model_selection import train_test_split\n",
    "from sklearn.metrics import accuracy_score, precision_score, recall_score, f1_score, confusion_matrix, classification_report\n",
    "from sklearn.ensemble import RandomForestClassifier\n",
    "import category_encoders as ce"
   ]
  },
  {
   "cell_type": "code",
   "execution_count": 68,
   "metadata": {},
   "outputs": [],
   "source": [
    "training_data = pd.read_csv('../Datasets/full_scaled_data.csv')"
   ]
  },
  {
   "cell_type": "code",
   "execution_count": 69,
   "metadata": {},
   "outputs": [
    {
     "data": {
      "text/html": [
       "<div>\n",
       "<style scoped>\n",
       "    .dataframe tbody tr th:only-of-type {\n",
       "        vertical-align: middle;\n",
       "    }\n",
       "\n",
       "    .dataframe tbody tr th {\n",
       "        vertical-align: top;\n",
       "    }\n",
       "\n",
       "    .dataframe thead th {\n",
       "        text-align: right;\n",
       "    }\n",
       "</style>\n",
       "<table border=\"1\" class=\"dataframe\">\n",
       "  <thead>\n",
       "    <tr style=\"text-align: right;\">\n",
       "      <th></th>\n",
       "      <th>dur</th>\n",
       "      <th>spkts</th>\n",
       "      <th>dpkts</th>\n",
       "      <th>sbytes</th>\n",
       "      <th>dbytes</th>\n",
       "      <th>rate</th>\n",
       "      <th>sttl</th>\n",
       "      <th>dttl</th>\n",
       "      <th>sload</th>\n",
       "      <th>dload</th>\n",
       "      <th>...</th>\n",
       "      <th>proto</th>\n",
       "      <th>service</th>\n",
       "      <th>ACC</th>\n",
       "      <th>CLO</th>\n",
       "      <th>CON</th>\n",
       "      <th>FIN</th>\n",
       "      <th>INT</th>\n",
       "      <th>REQ</th>\n",
       "      <th>RST</th>\n",
       "      <th>label</th>\n",
       "    </tr>\n",
       "  </thead>\n",
       "  <tbody>\n",
       "    <tr>\n",
       "      <th>0</th>\n",
       "      <td>-0.213727</td>\n",
       "      <td>-0.124455</td>\n",
       "      <td>-0.151816</td>\n",
       "      <td>-0.043684</td>\n",
       "      <td>-0.087369</td>\n",
       "      <td>0.057181</td>\n",
       "      <td>0.71944</td>\n",
       "      <td>-0.820395</td>\n",
       "      <td>0.643913</td>\n",
       "      <td>-0.263498</td>\n",
       "      <td>...</td>\n",
       "      <td>-0.34761</td>\n",
       "      <td>-0.719547</td>\n",
       "      <td>0</td>\n",
       "      <td>0</td>\n",
       "      <td>0</td>\n",
       "      <td>0</td>\n",
       "      <td>1</td>\n",
       "      <td>0</td>\n",
       "      <td>0</td>\n",
       "      <td>0</td>\n",
       "    </tr>\n",
       "    <tr>\n",
       "      <th>1</th>\n",
       "      <td>-0.213728</td>\n",
       "      <td>-0.124455</td>\n",
       "      <td>-0.151816</td>\n",
       "      <td>-0.036308</td>\n",
       "      <td>-0.087369</td>\n",
       "      <td>0.286565</td>\n",
       "      <td>0.71944</td>\n",
       "      <td>-0.820395</td>\n",
       "      <td>4.539351</td>\n",
       "      <td>-0.263498</td>\n",
       "      <td>...</td>\n",
       "      <td>-0.34761</td>\n",
       "      <td>-0.719547</td>\n",
       "      <td>0</td>\n",
       "      <td>0</td>\n",
       "      <td>0</td>\n",
       "      <td>0</td>\n",
       "      <td>1</td>\n",
       "      <td>0</td>\n",
       "      <td>0</td>\n",
       "      <td>0</td>\n",
       "    </tr>\n",
       "    <tr>\n",
       "      <th>2</th>\n",
       "      <td>-0.213729</td>\n",
       "      <td>-0.124455</td>\n",
       "      <td>-0.151816</td>\n",
       "      <td>-0.040351</td>\n",
       "      <td>-0.087369</td>\n",
       "      <td>0.791209</td>\n",
       "      <td>0.71944</td>\n",
       "      <td>-0.820395</td>\n",
       "      <td>4.391459</td>\n",
       "      <td>-0.263498</td>\n",
       "      <td>...</td>\n",
       "      <td>-0.34761</td>\n",
       "      <td>-0.719547</td>\n",
       "      <td>0</td>\n",
       "      <td>0</td>\n",
       "      <td>0</td>\n",
       "      <td>0</td>\n",
       "      <td>1</td>\n",
       "      <td>0</td>\n",
       "      <td>0</td>\n",
       "      <td>0</td>\n",
       "    </tr>\n",
       "    <tr>\n",
       "      <th>3</th>\n",
       "      <td>-0.213729</td>\n",
       "      <td>-0.124455</td>\n",
       "      <td>-0.151816</td>\n",
       "      <td>-0.041330</td>\n",
       "      <td>-0.087369</td>\n",
       "      <td>0.566923</td>\n",
       "      <td>0.71944</td>\n",
       "      <td>-0.820395</td>\n",
       "      <td>2.977031</td>\n",
       "      <td>-0.263498</td>\n",
       "      <td>...</td>\n",
       "      <td>-0.34761</td>\n",
       "      <td>-0.719547</td>\n",
       "      <td>0</td>\n",
       "      <td>0</td>\n",
       "      <td>0</td>\n",
       "      <td>0</td>\n",
       "      <td>1</td>\n",
       "      <td>0</td>\n",
       "      <td>0</td>\n",
       "      <td>0</td>\n",
       "    </tr>\n",
       "    <tr>\n",
       "      <th>4</th>\n",
       "      <td>-0.213728</td>\n",
       "      <td>-0.124455</td>\n",
       "      <td>-0.151816</td>\n",
       "      <td>-0.034187</td>\n",
       "      <td>-0.087369</td>\n",
       "      <td>0.118350</td>\n",
       "      <td>0.71944</td>\n",
       "      <td>-0.820395</td>\n",
       "      <td>4.369219</td>\n",
       "      <td>-0.263498</td>\n",
       "      <td>...</td>\n",
       "      <td>-0.34761</td>\n",
       "      <td>-0.719547</td>\n",
       "      <td>0</td>\n",
       "      <td>0</td>\n",
       "      <td>0</td>\n",
       "      <td>0</td>\n",
       "      <td>1</td>\n",
       "      <td>0</td>\n",
       "      <td>0</td>\n",
       "      <td>0</td>\n",
       "    </tr>\n",
       "  </tbody>\n",
       "</table>\n",
       "<p>5 rows × 49 columns</p>\n",
       "</div>"
      ],
      "text/plain": [
       "        dur     spkts     dpkts    sbytes    dbytes      rate     sttl  \\\n",
       "0 -0.213727 -0.124455 -0.151816 -0.043684 -0.087369  0.057181  0.71944   \n",
       "1 -0.213728 -0.124455 -0.151816 -0.036308 -0.087369  0.286565  0.71944   \n",
       "2 -0.213729 -0.124455 -0.151816 -0.040351 -0.087369  0.791209  0.71944   \n",
       "3 -0.213729 -0.124455 -0.151816 -0.041330 -0.087369  0.566923  0.71944   \n",
       "4 -0.213728 -0.124455 -0.151816 -0.034187 -0.087369  0.118350  0.71944   \n",
       "\n",
       "       dttl     sload     dload  ...    proto   service  ACC  CLO  CON  FIN  \\\n",
       "0 -0.820395  0.643913 -0.263498  ... -0.34761 -0.719547    0    0    0    0   \n",
       "1 -0.820395  4.539351 -0.263498  ... -0.34761 -0.719547    0    0    0    0   \n",
       "2 -0.820395  4.391459 -0.263498  ... -0.34761 -0.719547    0    0    0    0   \n",
       "3 -0.820395  2.977031 -0.263498  ... -0.34761 -0.719547    0    0    0    0   \n",
       "4 -0.820395  4.369219 -0.263498  ... -0.34761 -0.719547    0    0    0    0   \n",
       "\n",
       "   INT  REQ  RST  label  \n",
       "0    1    0    0      0  \n",
       "1    1    0    0      0  \n",
       "2    1    0    0      0  \n",
       "3    1    0    0      0  \n",
       "4    1    0    0      0  \n",
       "\n",
       "[5 rows x 49 columns]"
      ]
     },
     "execution_count": 69,
     "metadata": {},
     "output_type": "execute_result"
    }
   ],
   "source": [
    "training_data.head()"
   ]
  },
  {
   "cell_type": "code",
   "execution_count": 70,
   "metadata": {},
   "outputs": [],
   "source": [
    "X = training_data.drop(columns=['label'])\n",
    "y = training_data['label']"
   ]
  },
  {
   "cell_type": "code",
   "execution_count": 71,
   "metadata": {},
   "outputs": [],
   "source": [
    "X_train, X_test, y_train, y_test = train_test_split(X, y, test_size=0.25, random_state=42)"
   ]
  },
  {
   "cell_type": "code",
   "execution_count": 72,
   "metadata": {},
   "outputs": [],
   "source": [
    "classify_type = \"binary\""
   ]
  },
  {
   "cell_type": "code",
   "execution_count": 73,
   "metadata": {},
   "outputs": [],
   "source": [
    "rf = RandomForestClassifier(random_state=42)\n",
    "rf.fit(X_train, y_train)\n",
    "y_train_pred = rf.predict(X_train)\n",
    "y_test_pred = rf.predict(X_test)"
   ]
  },
  {
   "cell_type": "code",
   "execution_count": 74,
   "metadata": {},
   "outputs": [
    {
     "name": "stdout",
     "output_type": "stream",
     "text": [
      "Accuracy:     0.9764854491570714\n",
      "Precision:    0.9831640833778728\n",
      "Recall:       0.973967525591246\n",
      "F1-score:     0.9785441971806011\n"
     ]
    }
   ],
   "source": [
    "print(\"Accuracy:    \", accuracy_score(y_test, y_test_pred))\n",
    "print(\"Precision:   \", precision_score(y_test, y_test_pred))\n",
    "print(\"Recall:      \", recall_score(y_test, y_test_pred))\n",
    "print(\"F1-score:    \", f1_score(y_test, y_test_pred))"
   ]
  },
  {
   "cell_type": "code",
   "execution_count": 75,
   "metadata": {},
   "outputs": [
    {
     "data": {
      "image/png": "[encoded data removed]",
      "text/plain": [
       "<Figure size 640x480 with 2 Axes>"
      ]
     },
     "metadata": {},
     "output_type": "display_data"
    }
   ],
   "source": [
    "display_labels = {\"binary\":[\"Normal\",\"Attacked\"],\"multiclass\":[\"Normal\",\"Generic\",\"Exploits\",\"Fuzzers\",\"DoS\",\"Reconnaissance\",\"Analysis\", \"Backdoor\", \"Shellcode\", \"Worms\"]}\n",
    "matrix_test = sns.heatmap(confusion_matrix(y_test, y_test_pred),annot=True, fmt='d',xticklabels=display_labels[classify_type], yticklabels=display_labels[classify_type])\n",
    "plt.xlabel(\"Predicted\")\n",
    "plt.ylabel(\"True\")\n",
    "plt.title(\"Test Confusion Matrix\")\n",
    "#plt.savefig('../images/rf_test_confusion_matrix_' + classify_type + \".png\", bbox_inches='tight')\n",
    "plt.show()"
   ]
  }
 ],
 "metadata": {
  "kernelspec": {
   "display_name": "Python 3",
   "language": "python",
   "name": "python3"
  },
  "language_info": {
   "codemirror_mode": {
    "name": "ipython",
    "version": 3
   },
   "file_extension": ".py",
   "mimetype": "text/x-python",
   "name": "python",
   "nbconvert_exporter": "python",
   "pygments_lexer": "ipython3",
   "version": "3.10.11"
  }
 },
 "nbformat": 4,
 "nbformat_minor": 2
}
