{
 "cells": [
  {
   "cell_type": "code",
   "execution_count": 1,
   "metadata": {},
   "outputs": [],
   "source": [
    "import pandas as pd\n",
    "import numpy as np\n",
    "import matplotlib.pyplot as plt\n",
    "import seaborn as sns\n",
    "from sklearn.model_selection import GridSearchCV\n",
    "from sklearn.model_selection import train_test_split\n",
    "from sklearn.metrics import accuracy_score, precision_score, recall_score, f1_score, confusion_matrix, classification_report\n",
    "from sklearn.ensemble import RandomForestClassifier\n",
    "import category_encoders as ce"
   ]
  },
  {
   "cell_type": "code",
   "execution_count": 2,
   "metadata": {},
   "outputs": [],
   "source": [
    "training_data = pd.read_csv('../Datasets/full_scaled_data.csv')"
   ]
  },
  {
   "cell_type": "code",
   "execution_count": 3,
   "metadata": {},
   "outputs": [
    {
     "data": {
      "text/html": [
       "<div>\n",
       "<style scoped>\n",
       "    .dataframe tbody tr th:only-of-type {\n",
       "        vertical-align: middle;\n",
       "    }\n",
       "\n",
       "    .dataframe tbody tr th {\n",
       "        vertical-align: top;\n",
       "    }\n",
       "\n",
       "    .dataframe thead th {\n",
       "        text-align: right;\n",
       "    }\n",
       "</style>\n",
       "<table border=\"1\" class=\"dataframe\">\n",
       "  <thead>\n",
       "    <tr style=\"text-align: right;\">\n",
       "      <th></th>\n",
       "      <th>dur</th>\n",
       "      <th>spkts</th>\n",
       "      <th>dpkts</th>\n",
       "      <th>sbytes</th>\n",
       "      <th>dbytes</th>\n",
       "      <th>rate</th>\n",
       "      <th>sttl</th>\n",
       "      <th>dttl</th>\n",
       "      <th>sload</th>\n",
       "      <th>dload</th>\n",
       "      <th>...</th>\n",
       "      <th>proto</th>\n",
       "      <th>service</th>\n",
       "      <th>ACC</th>\n",
       "      <th>CLO</th>\n",
       "      <th>CON</th>\n",
       "      <th>FIN</th>\n",
       "      <th>INT</th>\n",
       "      <th>REQ</th>\n",
       "      <th>RST</th>\n",
       "      <th>label</th>\n",
       "    </tr>\n",
       "  </thead>\n",
       "  <tbody>\n",
       "    <tr>\n",
       "      <th>0</th>\n",
       "      <td>-0.213727</td>\n",
       "      <td>-0.124455</td>\n",
       "      <td>-0.151816</td>\n",
       "      <td>-0.043684</td>\n",
       "      <td>-0.087369</td>\n",
       "      <td>0.057181</td>\n",
       "      <td>0.71944</td>\n",
       "      <td>-0.820395</td>\n",
       "      <td>0.643913</td>\n",
       "      <td>-0.263498</td>\n",
       "      <td>...</td>\n",
       "      <td>-0.34761</td>\n",
       "      <td>-0.719547</td>\n",
       "      <td>0</td>\n",
       "      <td>0</td>\n",
       "      <td>0</td>\n",
       "      <td>0</td>\n",
       "      <td>1</td>\n",
       "      <td>0</td>\n",
       "      <td>0</td>\n",
       "      <td>0</td>\n",
       "    </tr>\n",
       "    <tr>\n",
       "      <th>1</th>\n",
       "      <td>-0.213728</td>\n",
       "      <td>-0.124455</td>\n",
       "      <td>-0.151816</td>\n",
       "      <td>-0.036308</td>\n",
       "      <td>-0.087369</td>\n",
       "      <td>0.286565</td>\n",
       "      <td>0.71944</td>\n",
       "      <td>-0.820395</td>\n",
       "      <td>4.539351</td>\n",
       "      <td>-0.263498</td>\n",
       "      <td>...</td>\n",
       "      <td>-0.34761</td>\n",
       "      <td>-0.719547</td>\n",
       "      <td>0</td>\n",
       "      <td>0</td>\n",
       "      <td>0</td>\n",
       "      <td>0</td>\n",
       "      <td>1</td>\n",
       "      <td>0</td>\n",
       "      <td>0</td>\n",
       "      <td>0</td>\n",
       "    </tr>\n",
       "    <tr>\n",
       "      <th>2</th>\n",
       "      <td>-0.213729</td>\n",
       "      <td>-0.124455</td>\n",
       "      <td>-0.151816</td>\n",
       "      <td>-0.040351</td>\n",
       "      <td>-0.087369</td>\n",
       "      <td>0.791209</td>\n",
       "      <td>0.71944</td>\n",
       "      <td>-0.820395</td>\n",
       "      <td>4.391459</td>\n",
       "      <td>-0.263498</td>\n",
       "      <td>...</td>\n",
       "      <td>-0.34761</td>\n",
       "      <td>-0.719547</td>\n",
       "      <td>0</td>\n",
       "      <td>0</td>\n",
       "      <td>0</td>\n",
       "      <td>0</td>\n",
       "      <td>1</td>\n",
       "      <td>0</td>\n",
       "      <td>0</td>\n",
       "      <td>0</td>\n",
       "    </tr>\n",
       "    <tr>\n",
       "      <th>3</th>\n",
       "      <td>-0.213729</td>\n",
       "      <td>-0.124455</td>\n",
       "      <td>-0.151816</td>\n",
       "      <td>-0.041330</td>\n",
       "      <td>-0.087369</td>\n",
       "      <td>0.566923</td>\n",
       "      <td>0.71944</td>\n",
       "      <td>-0.820395</td>\n",
       "      <td>2.977031</td>\n",
       "      <td>-0.263498</td>\n",
       "      <td>...</td>\n",
       "      <td>-0.34761</td>\n",
       "      <td>-0.719547</td>\n",
       "      <td>0</td>\n",
       "      <td>0</td>\n",
       "      <td>0</td>\n",
       "      <td>0</td>\n",
       "      <td>1</td>\n",
       "      <td>0</td>\n",
       "      <td>0</td>\n",
       "      <td>0</td>\n",
       "    </tr>\n",
       "    <tr>\n",
       "      <th>4</th>\n",
       "      <td>-0.213728</td>\n",
       "      <td>-0.124455</td>\n",
       "      <td>-0.151816</td>\n",
       "      <td>-0.034187</td>\n",
       "      <td>-0.087369</td>\n",
       "      <td>0.118350</td>\n",
       "      <td>0.71944</td>\n",
       "      <td>-0.820395</td>\n",
       "      <td>4.369219</td>\n",
       "      <td>-0.263498</td>\n",
       "      <td>...</td>\n",
       "      <td>-0.34761</td>\n",
       "      <td>-0.719547</td>\n",
       "      <td>0</td>\n",
       "      <td>0</td>\n",
       "      <td>0</td>\n",
       "      <td>0</td>\n",
       "      <td>1</td>\n",
       "      <td>0</td>\n",
       "      <td>0</td>\n",
       "      <td>0</td>\n",
       "    </tr>\n",
       "  </tbody>\n",
       "</table>\n",
       "<p>5 rows × 49 columns</p>\n",
       "</div>"
      ],
      "text/plain": [
       "        dur     spkts     dpkts    sbytes    dbytes      rate     sttl  \\\n",
       "0 -0.213727 -0.124455 -0.151816 -0.043684 -0.087369  0.057181  0.71944   \n",
       "1 -0.213728 -0.124455 -0.151816 -0.036308 -0.087369  0.286565  0.71944   \n",
       "2 -0.213729 -0.124455 -0.151816 -0.040351 -0.087369  0.791209  0.71944   \n",
       "3 -0.213729 -0.124455 -0.151816 -0.041330 -0.087369  0.566923  0.71944   \n",
       "4 -0.213728 -0.124455 -0.151816 -0.034187 -0.087369  0.118350  0.71944   \n",
       "\n",
       "       dttl     sload     dload  ...    proto   service  ACC  CLO  CON  FIN  \\\n",
       "0 -0.820395  0.643913 -0.263498  ... -0.34761 -0.719547    0    0    0    0   \n",
       "1 -0.820395  4.539351 -0.263498  ... -0.34761 -0.719547    0    0    0    0   \n",
       "2 -0.820395  4.391459 -0.263498  ... -0.34761 -0.719547    0    0    0    0   \n",
       "3 -0.820395  2.977031 -0.263498  ... -0.34761 -0.719547    0    0    0    0   \n",
       "4 -0.820395  4.369219 -0.263498  ... -0.34761 -0.719547    0    0    0    0   \n",
       "\n",
       "   INT  REQ  RST  label  \n",
       "0    1    0    0      0  \n",
       "1    1    0    0      0  \n",
       "2    1    0    0      0  \n",
       "3    1    0    0      0  \n",
       "4    1    0    0      0  \n",
       "\n",
       "[5 rows x 49 columns]"
      ]
     },
     "execution_count": 3,
     "metadata": {},
     "output_type": "execute_result"
    }
   ],
   "source": [
    "training_data.head()"
   ]
  },
  {
   "cell_type": "code",
   "execution_count": 4,
   "metadata": {},
   "outputs": [
    {
     "name": "stdout",
     "output_type": "stream",
     "text": [
      "<class 'pandas.core.frame.DataFrame'>\n",
      "RangeIndex: 82332 entries, 0 to 82331\n",
      "Data columns (total 49 columns):\n",
      " #   Column             Non-Null Count  Dtype  \n",
      "---  ------             --------------  -----  \n",
      " 0   dur                82332 non-null  float64\n",
      " 1   spkts              82332 non-null  float64\n",
      " 2   dpkts              82332 non-null  float64\n",
      " 3   sbytes             82332 non-null  float64\n",
      " 4   dbytes             82332 non-null  float64\n",
      " 5   rate               82332 non-null  float64\n",
      " 6   sttl               82332 non-null  float64\n",
      " 7   dttl               82332 non-null  float64\n",
      " 8   sload              82332 non-null  float64\n",
      " 9   dload              82332 non-null  float64\n",
      " 10  sloss              82332 non-null  float64\n",
      " 11  dloss              82332 non-null  float64\n",
      " 12  sinpkt             82332 non-null  float64\n",
      " 13  dinpkt             82332 non-null  float64\n",
      " 14  sjit               82332 non-null  float64\n",
      " 15  djit               82332 non-null  float64\n",
      " 16  swin               82332 non-null  float64\n",
      " 17  stcpb              82332 non-null  float64\n",
      " 18  dtcpb              82332 non-null  float64\n",
      " 19  dwin               82332 non-null  float64\n",
      " 20  tcprtt             82332 non-null  float64\n",
      " 21  synack             82332 non-null  float64\n",
      " 22  ackdat             82332 non-null  float64\n",
      " 23  smean              82332 non-null  float64\n",
      " 24  dmean              82332 non-null  float64\n",
      " 25  trans_depth        82332 non-null  float64\n",
      " 26  response_body_len  82332 non-null  float64\n",
      " 27  ct_srv_src         82332 non-null  float64\n",
      " 28  ct_state_ttl       82332 non-null  float64\n",
      " 29  ct_dst_ltm         82332 non-null  float64\n",
      " 30  ct_src_dport_ltm   82332 non-null  float64\n",
      " 31  ct_dst_sport_ltm   82332 non-null  float64\n",
      " 32  ct_dst_src_ltm     82332 non-null  float64\n",
      " 33  is_ftp_login       82332 non-null  float64\n",
      " 34  ct_ftp_cmd         82332 non-null  float64\n",
      " 35  ct_flw_http_mthd   82332 non-null  float64\n",
      " 36  ct_src_ltm         82332 non-null  float64\n",
      " 37  ct_srv_dst         82332 non-null  float64\n",
      " 38  is_sm_ips_ports    82332 non-null  float64\n",
      " 39  proto              82332 non-null  float64\n",
      " 40  service            82332 non-null  float64\n",
      " 41  ACC                82332 non-null  int64  \n",
      " 42  CLO                82332 non-null  int64  \n",
      " 43  CON                82332 non-null  int64  \n",
      " 44  FIN                82332 non-null  int64  \n",
      " 45  INT                82332 non-null  int64  \n",
      " 46  REQ                82332 non-null  int64  \n",
      " 47  RST                82332 non-null  int64  \n",
      " 48  label              82332 non-null  int64  \n",
      "dtypes: float64(41), int64(8)\n",
      "memory usage: 30.8 MB\n"
     ]
    }
   ],
   "source": [
    "training_data.info()"
   ]
  },
  {
   "cell_type": "code",
   "execution_count": 5,
   "metadata": {},
   "outputs": [],
   "source": [
    "X = training_data.drop(columns=['label'])\n",
    "y = training_data['label']"
   ]
  },
  {
   "cell_type": "code",
   "execution_count": 6,
   "metadata": {},
   "outputs": [],
   "source": [
    "X_train, X_test, y_train, y_test = train_test_split(X, y, test_size=0.25, random_state=42)"
   ]
  },
  {
   "cell_type": "code",
   "execution_count": 7,
   "metadata": {},
   "outputs": [],
   "source": [
    "classify_type = \"binary\""
   ]
  },
  {
   "cell_type": "markdown",
   "metadata": {},
   "source": [
    "## Random Forest"
   ]
  },
  {
   "cell_type": "code",
   "execution_count": 16,
   "metadata": {},
   "outputs": [],
   "source": [
    "#rf = RandomForestClassifier(random_state=42)\n",
    "rf = RandomForestClassifier(n_estimators=200, max_features=None, random_state=0)\n",
    "rf.fit(X_train, y_train)\n",
    "y_train_pred = rf.predict(X_train)\n",
    "y_test_pred = rf.predict(X_test)"
   ]
  },
  {
   "cell_type": "code",
   "execution_count": 17,
   "metadata": {},
   "outputs": [
    {
     "name": "stdout",
     "output_type": "stream",
     "text": [
      "Accuracy:     0.9771656221153379\n",
      "Precision:    0.9840463458110517\n",
      "Recall:       0.9743205082950935\n",
      "F1-score:     0.9791592763391274\n"
     ]
    }
   ],
   "source": [
    "print(\"Accuracy:    \", accuracy_score(y_test, y_test_pred))\n",
    "print(\"Precision:   \", precision_score(y_test, y_test_pred))\n",
    "print(\"Recall:      \", recall_score(y_test, y_test_pred))\n",
    "print(\"F1-score:    \", f1_score(y_test, y_test_pred))"
   ]
  },
  {
   "cell_type": "code",
   "execution_count": 19,
   "metadata": {},
   "outputs": [
    {
     "data": {
      "image/png": "[encoded data removed]",
      "text/plain": [
       "<Figure size 640x480 with 2 Axes>"
      ]
     },
     "metadata": {},
     "output_type": "display_data"
    }
   ],
   "source": [
    "display_labels = {\"binary\":[\"Normal\",\"Attacked\"],\"multiclass\":[\"Normal\",\"Generic\",\"Exploits\",\"Fuzzers\",\"DoS\",\"Reconnaissance\",\"Analysis\", \"Backdoor\", \"Shellcode\", \"Worms\"]}\n",
    "matrix_test = sns.heatmap(confusion_matrix(y_test, y_test_pred),annot=True, fmt='d',xticklabels=display_labels[classify_type], yticklabels=display_labels[classify_type])\n",
    "plt.xlabel(\"Predicted\")\n",
    "plt.ylabel(\"True\")\n",
    "plt.title(\"Test Confusion Matrix\")\n",
    "plt.savefig('../images/rf_test_confusion_matrix_' + classify_type + \".png\", bbox_inches='tight')\n",
    "plt.show()"
   ]
  },
  {
   "cell_type": "markdown",
   "metadata": {},
   "source": [
    "## Decision Tree"
   ]
  },
  {
   "cell_type": "code",
   "execution_count": 29,
   "metadata": {},
   "outputs": [],
   "source": [
    "from sklearn.tree import DecisionTreeClassifier"
   ]
  },
  {
   "cell_type": "code",
   "execution_count": 82,
   "metadata": {},
   "outputs": [],
   "source": [
    "dt = DecisionTreeClassifier(criterion='entropy', max_depth=20, min_samples_leaf=2, min_samples_split=2)\n",
    "dt.fit(X_train, y_train)\n",
    "y_dt_train_pred = dt.predict(X_train)\n",
    "y_dt_test_pred = dt.predict(X_test)"
   ]
  },
  {
   "cell_type": "code",
   "execution_count": 83,
   "metadata": {},
   "outputs": [
    {
     "name": "stdout",
     "output_type": "stream",
     "text": [
      "Accuracy:     0.9695379682262061\n",
      "Precision:    0.9779444593267256\n",
      "Recall:       0.9664666431344864\n",
      "F1-score:     0.9721716745816874\n"
     ]
    }
   ],
   "source": [
    "print(\"Accuracy:    \", accuracy_score(y_test, y_dt_test_pred))\n",
    "print(\"Precision:   \", precision_score(y_test, y_dt_test_pred))\n",
    "print(\"Recall:      \", recall_score(y_test, y_dt_test_pred))\n",
    "print(\"F1-score:    \", f1_score(y_test, y_dt_test_pred))"
   ]
  },
  {
   "cell_type": "code",
   "execution_count": 84,
   "metadata": {},
   "outputs": [
    {
     "data": {
      "image/png": "[encoded data removed]",
      "text/plain": [
       "<Figure size 640x480 with 2 Axes>"
      ]
     },
     "metadata": {},
     "output_type": "display_data"
    }
   ],
   "source": [
    "display_labels = {\"binary\":[\"Normal\",\"Attacked\"],\"multiclass\":[\"Normal\",\"Generic\",\"Exploits\",\"Fuzzers\",\"DoS\",\"Reconnaissance\",\"Analysis\", \"Backdoor\", \"Shellcode\", \"Worms\"]}\n",
    "matrix_test = sns.heatmap(confusion_matrix(y_test, y_dt_test_pred),annot=True, fmt='d',xticklabels=display_labels[classify_type], yticklabels=display_labels[classify_type])\n",
    "plt.xlabel(\"Predicted\")\n",
    "plt.ylabel(\"True\")\n",
    "plt.title(\"Test Confusion Matrix\")\n",
    "plt.savefig('../images/dt_test_confusion_matrix_' + classify_type + \".png\", bbox_inches='tight')\n",
    "plt.show()"
   ]
  }
 ],
 "metadata": {
  "kernelspec": {
   "display_name": "Python 3",
   "language": "python",
   "name": "python3"
  },
  "language_info": {
   "codemirror_mode": {
    "name": "ipython",
    "version": 3
   },
   "file_extension": ".py",
   "mimetype": "text/x-python",
   "name": "python",
   "nbconvert_exporter": "python",
   "pygments_lexer": "ipython3",
   "version": "3.10.11"
  }
 },
 "nbformat": 4,
 "nbformat_minor": 2
}
